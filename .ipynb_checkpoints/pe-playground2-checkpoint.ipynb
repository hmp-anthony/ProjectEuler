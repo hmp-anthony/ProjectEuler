{
 "cells": [
  {
   "cell_type": "markdown",
   "id": "0eeb3e4a-59fa-4c82-8766-8d9916610c06",
   "metadata": {},
   "source": [
    "# Problem 11"
   ]
  },
  {
   "cell_type": "code",
   "execution_count": 1,
   "id": "895afc7a-440b-43ff-8583-1bfe17a7c066",
   "metadata": {},
   "outputs": [
    {
     "name": "stdout",
     "output_type": "stream",
     "text": [
      "8\n",
      "[0, 1, 2, 3, 4, 5, 6, 7, 8, 9, 10, 11, 12, 13, 14, 15, 16]\n"
     ]
    }
   ],
   "source": [
    "s = \"08\"\n",
    "i = int(s)\n",
    "print(i)\n",
    "print(list(range(17)))"
   ]
  },
  {
   "cell_type": "code",
   "execution_count": 2,
   "id": "57f2487d-3de5-4df3-9c81-754c6554a49f",
   "metadata": {},
   "outputs": [],
   "source": [
    "S = \"\"\"08 02 22 97 38 15 00 40 00 75 04 05 07 78 52 12 50 77 91 08\n",
    "49 49 99 40 17 81 18 57 60 87 17 40 98 43 69 48 04 56 62 00\n",
    "81 49 31 73 55 79 14 29 93 71 40 67 53 88 30 03 49 13 36 65\n",
    "52 70 95 23 04 60 11 42 69 24 68 56 01 32 56 71 37 02 36 91\n",
    "22 31 16 71 51 67 63 89 41 92 36 54 22 40 40 28 66 33 13 80\n",
    "24 47 32 60 99 03 45 02 44 75 33 53 78 36 84 20 35 17 12 50\n",
    "32 98 81 28 64 23 67 10 26 38 40 67 59 54 70 66 18 38 64 70\n",
    "67 26 20 68 02 62 12 20 95 63 94 39 63 08 40 91 66 49 94 21\n",
    "24 55 58 05 66 73 99 26 97 17 78 78 96 83 14 88 34 89 63 72\n",
    "21 36 23 09 75 00 76 44 20 45 35 14 00 61 33 97 34 31 33 95\n",
    "78 17 53 28 22 75 31 67 15 94 03 80 04 62 16 14 09 53 56 92\n",
    "16 39 05 42 96 35 31 47 55 58 88 24 00 17 54 24 36 29 85 57\n",
    "86 56 00 48 35 71 89 07 05 44 44 37 44 60 21 58 51 54 17 58\n",
    "19 80 81 68 05 94 47 69 28 73 92 13 86 52 17 77 04 89 55 40\n",
    "04 52 08 83 97 35 99 16 07 97 57 32 16 26 26 79 33 27 98 66\n",
    "88 36 68 87 57 62 20 72 03 46 33 67 46 55 12 32 63 93 53 69\n",
    "04 42 16 73 38 25 39 11 24 94 72 18 08 46 29 32 40 62 76 36\n",
    "20 69 36 41 72 30 23 88 34 62 99 69 82 67 59 85 74 04 36 16\n",
    "20 73 35 29 78 31 90 01 74 31 49 71 48 86 81 16 23 57 05 54\n",
    "01 70 54 71 83 51 54 69 16 92 33 48 61 43 52 01 89 19 67 48\"\"\""
   ]
  },
  {
   "cell_type": "code",
   "execution_count": 3,
   "id": "45541b79-5947-4233-af73-c3ab48075f2f",
   "metadata": {},
   "outputs": [
    {
     "name": "stdout",
     "output_type": "stream",
     "text": [
      "20 20\n",
      "[[8, 2, 22, 97, 38, 15, 0, 40, 0, 75, 4, 5, 7, 78, 52, 12, 50, 77, 91, 8], [49, 49, 99, 40, 17, 81, 18, 57, 60, 87, 17, 40, 98, 43, 69, 48, 4, 56, 62, 0], [81, 49, 31, 73, 55, 79, 14, 29, 93, 71, 40, 67, 53, 88, 30, 3, 49, 13, 36, 65], [52, 70, 95, 23, 4, 60, 11, 42, 69, 24, 68, 56, 1, 32, 56, 71, 37, 2, 36, 91], [22, 31, 16, 71, 51, 67, 63, 89, 41, 92, 36, 54, 22, 40, 40, 28, 66, 33, 13, 80], [24, 47, 32, 60, 99, 3, 45, 2, 44, 75, 33, 53, 78, 36, 84, 20, 35, 17, 12, 50], [32, 98, 81, 28, 64, 23, 67, 10, 26, 38, 40, 67, 59, 54, 70, 66, 18, 38, 64, 70], [67, 26, 20, 68, 2, 62, 12, 20, 95, 63, 94, 39, 63, 8, 40, 91, 66, 49, 94, 21], [24, 55, 58, 5, 66, 73, 99, 26, 97, 17, 78, 78, 96, 83, 14, 88, 34, 89, 63, 72], [21, 36, 23, 9, 75, 0, 76, 44, 20, 45, 35, 14, 0, 61, 33, 97, 34, 31, 33, 95], [78, 17, 53, 28, 22, 75, 31, 67, 15, 94, 3, 80, 4, 62, 16, 14, 9, 53, 56, 92], [16, 39, 5, 42, 96, 35, 31, 47, 55, 58, 88, 24, 0, 17, 54, 24, 36, 29, 85, 57], [86, 56, 0, 48, 35, 71, 89, 7, 5, 44, 44, 37, 44, 60, 21, 58, 51, 54, 17, 58], [19, 80, 81, 68, 5, 94, 47, 69, 28, 73, 92, 13, 86, 52, 17, 77, 4, 89, 55, 40], [4, 52, 8, 83, 97, 35, 99, 16, 7, 97, 57, 32, 16, 26, 26, 79, 33, 27, 98, 66], [88, 36, 68, 87, 57, 62, 20, 72, 3, 46, 33, 67, 46, 55, 12, 32, 63, 93, 53, 69], [4, 42, 16, 73, 38, 25, 39, 11, 24, 94, 72, 18, 8, 46, 29, 32, 40, 62, 76, 36], [20, 69, 36, 41, 72, 30, 23, 88, 34, 62, 99, 69, 82, 67, 59, 85, 74, 4, 36, 16], [20, 73, 35, 29, 78, 31, 90, 1, 74, 31, 49, 71, 48, 86, 81, 16, 23, 57, 5, 54], [1, 70, 54, 71, 83, 51, 54, 69, 16, 92, 33, 48, 61, 43, 52, 1, 89, 19, 67, 48]]\n"
     ]
    }
   ],
   "source": [
    "SS = S.split('\\n')\n",
    "SS = [s.split() for s in SS]\n",
    "L = [[int(j) for j in k] for k in SS]\n",
    "print(len(L), len(L[0]))\n",
    "print(L)"
   ]
  },
  {
   "cell_type": "markdown",
   "id": "e82fa3fb-0f99-4ea3-acfb-9d88226c3b81",
   "metadata": {},
   "source": [
    "We need to go horizontal, vertical and diagonal. Let's do diagonal first, this will be by far the hardest."
   ]
  },
  {
   "cell_type": "code",
   "execution_count": 6,
   "id": "5254dd4e-bbc6-473f-a7f2-ba41ba0e78c7",
   "metadata": {},
   "outputs": [
    {
     "name": "stdout",
     "output_type": "stream",
     "text": [
      "40304286\n",
      "70600674\n",
      "51267216\n",
      "48477312\n"
     ]
    }
   ],
   "source": [
    "# left to right\n",
    "max_product_diag_ltr = 0\n",
    "for k in range(17):\n",
    "    for i in range(17):\n",
    "        p = L[k][i] * L[k+1][i+1] * L[k+2][i+2] * L[k+3][i+3]\n",
    "        if p > max_product_diag_ltr:\n",
    "            max_product_diag_ltr = p\n",
    "print(max_product_diag_ltr)\n",
    "\n",
    "# right to left\n",
    "max_product_diag_rtl = 0\n",
    "for k in range(17):\n",
    "    for i in range(3,20):\n",
    "        p = L[k][i] * L[k+1][i-1] * L[k+2][i-2] * L[k+3][i-3]\n",
    "        if p > max_product_diag_rtl:\n",
    "            max_product_diag_rtl = p\n",
    "print(max_product_diag_rtl)\n",
    "\n",
    "# vertical\n",
    "max_product_vertical = 0\n",
    "for k in range(17):\n",
    "    for j in range(20):\n",
    "        p = L[k][j] * L[k+1][j] * L[k+2][j] *L[k+3][j]\n",
    "        if p > max_product_vertical:\n",
    "            max_product_vertical = p\n",
    "print(max_product_vertical)\n",
    "\n",
    "# horizontal\n",
    "max_product_horizontal = 0\n",
    "for k in range(20):\n",
    "    for j in range(17):\n",
    "        p = L[k][j] * L[k][j+1] * L[k][j+2] *L[k][j+3]\n",
    "        if p > max_product_horizontal:\n",
    "            max_product_horizontal= p\n",
    "print(max_product_horizontal)"
   ]
  },
  {
   "cell_type": "markdown",
   "id": "d8df5413-b271-4157-9c42-40fa7f15925e",
   "metadata": {},
   "source": [
    "# Problem 12"
   ]
  },
  {
   "cell_type": "code",
   "execution_count": 2,
   "id": "060d8333-9d08-4e8e-8fb9-f5f40bfb9c6b",
   "metadata": {},
   "outputs": [],
   "source": [
    "T = []\n",
    "for i in range(1,30):\n",
    "    T.append(int(i*(i+1)*0.5))"
   ]
  },
  {
   "cell_type": "code",
   "execution_count": 3,
   "id": "b6022ec4-dea4-4783-bbf9-3ed7c175fede",
   "metadata": {},
   "outputs": [],
   "source": [
    "D = {}\n",
    "DD = {}\n",
    "for t in T:\n",
    "    N = 0\n",
    "    V = []\n",
    "    for i in range(1,t+1):\n",
    "        if t%i == 0:\n",
    "            N = N + 1\n",
    "            V.append(i)\n",
    "    D[t] = N\n",
    "    DD[t] = V"
   ]
  },
  {
   "cell_type": "markdown",
   "id": "7af07769-6b3e-466a-aae8-1c8033e62459",
   "metadata": {},
   "source": [
    "I'm looking for some pattern. I could not find any pattern. Brute forcing this will take a LONG time. However I have some ideas. Consider the triangular number $$\\frac{n(n+1)}{2}.$$ Note that $n$ and $n+1$ do not share any prime factors, they are coprime. Hence we just need to find the number of prime factors of $\\frac{n}{2}$ and $n+1$ and multiply (for even $n$). We need to find prime factorisations and then use the well known formula that gives us the number of divisors given the powers of each of the prime factors."
   ]
  },
  {
   "cell_type": "code",
   "execution_count": 11,
   "id": "102560da-8bb6-45b7-b567-625fdc9c83e6",
   "metadata": {},
   "outputs": [
    {
     "name": "stdout",
     "output_type": "stream",
     "text": [
      "576 12376\n",
      "Time taken:  0.18865346908569336\n"
     ]
    }
   ],
   "source": [
    "import math, time\n",
    "\n",
    "# Let's use a sieve to get the primes. ----------------------\n",
    "limit = 1000\n",
    "sievebound = int((limit - 1)/2)\n",
    "sieve = [False] * sievebound\n",
    "crosslimit = int((int(math.sqrt(limit)) - 1)/2)\n",
    "\n",
    "for i in range(1, crosslimit):\n",
    "    if not sieve[i]:\n",
    "        # remember i is the index of p = 2*i + 1\n",
    "        for j in range(2*i*(i+1), sievebound, 2*i + 1):\n",
    "            sieve[j] = True\n",
    "\n",
    "primes = [2] \n",
    "for i in range(1,sievebound):\n",
    "    if not sieve[i]:\n",
    "        primes.append(2*i + 1)\n",
    "# -----------------------------------------------------------\n",
    "\n",
    "R = 13000\n",
    "b = time.time()\n",
    "prev = 1\n",
    "for j in range(2, R):\n",
    "    if j % 2 == 0:\n",
    "        n = int(j/2)\n",
    "    else:\n",
    "        n = j\n",
    "\n",
    "    F = {}\n",
    "    for i in range(len(primes)):\n",
    "        p = primes[i]\n",
    "        power = 0\n",
    "        if p*p > n:\n",
    "            break\n",
    "        m = n\n",
    "        while m % p == 0:\n",
    "            power += 1\n",
    "            m = m // p\n",
    "        if power > 0:\n",
    "            F[p] = power\n",
    "        \n",
    "    N = 1\n",
    "    for k in F:\n",
    "        N *= (F[k] + 1)\n",
    "\n",
    "    if N * prev > 500:\n",
    "        print(N * prev, j)\n",
    "        break\n",
    "    else:\n",
    "        prev = N\n",
    "        \n",
    "e = time.time()\n",
    "print(\"Time taken: \", e - b)"
   ]
  },
  {
   "cell_type": "code",
   "execution_count": 1,
   "id": "a0184b1c-321b-4dfd-b7da-4b77c322e6df",
   "metadata": {},
   "outputs": [
    {
     "data": {
      "text/plain": [
       "76576500.0"
      ]
     },
     "execution_count": 1,
     "metadata": {},
     "output_type": "execute_result"
    }
   ],
   "source": [
    "0.5 * (12376 - 1) * (12376)"
   ]
  },
  {
   "cell_type": "markdown",
   "id": "3f590100-eb84-4b4b-ab5f-0218686def92",
   "metadata": {},
   "source": [
    "From looking at the overview, we got the optimal solution first time! :D I did second guess myself in the beginning. They claim that their implementation is roughly 10 times faster than mine (at least). Although, they said their implementation is in assembly. I might come back to this."
   ]
  },
  {
   "cell_type": "markdown",
   "id": "1c8a086a-f40e-41fa-855a-017a00cc32b4",
   "metadata": {},
   "source": [
    "# Problem 13"
   ]
  },
  {
   "cell_type": "code",
   "execution_count": 7,
   "id": "439742e7-4dbb-496d-9144-bb5433468d19",
   "metadata": {},
   "outputs": [],
   "source": [
    "S = \"\"\"37107287533902102798797998220837590246510135740250\n",
    "46376937677490009712648124896970078050417018260538\n",
    "74324986199524741059474233309513058123726617309629\n",
    "91942213363574161572522430563301811072406154908250\n",
    "23067588207539346171171980310421047513778063246676\n",
    "89261670696623633820136378418383684178734361726757\n",
    "28112879812849979408065481931592621691275889832738\n",
    "44274228917432520321923589422876796487670272189318\n",
    "47451445736001306439091167216856844588711603153276\n",
    "70386486105843025439939619828917593665686757934951\n",
    "62176457141856560629502157223196586755079324193331\n",
    "64906352462741904929101432445813822663347944758178\n",
    "92575867718337217661963751590579239728245598838407\n",
    "58203565325359399008402633568948830189458628227828\n",
    "80181199384826282014278194139940567587151170094390\n",
    "35398664372827112653829987240784473053190104293586\n",
    "86515506006295864861532075273371959191420517255829\n",
    "71693888707715466499115593487603532921714970056938\n",
    "54370070576826684624621495650076471787294438377604\n",
    "53282654108756828443191190634694037855217779295145\n",
    "36123272525000296071075082563815656710885258350721\n",
    "45876576172410976447339110607218265236877223636045\n",
    "17423706905851860660448207621209813287860733969412\n",
    "81142660418086830619328460811191061556940512689692\n",
    "51934325451728388641918047049293215058642563049483\n",
    "62467221648435076201727918039944693004732956340691\n",
    "15732444386908125794514089057706229429197107928209\n",
    "55037687525678773091862540744969844508330393682126\n",
    "18336384825330154686196124348767681297534375946515\n",
    "80386287592878490201521685554828717201219257766954\n",
    "78182833757993103614740356856449095527097864797581\n",
    "16726320100436897842553539920931837441497806860984\n",
    "48403098129077791799088218795327364475675590848030\n",
    "87086987551392711854517078544161852424320693150332\n",
    "59959406895756536782107074926966537676326235447210\n",
    "69793950679652694742597709739166693763042633987085\n",
    "41052684708299085211399427365734116182760315001271\n",
    "65378607361501080857009149939512557028198746004375\n",
    "35829035317434717326932123578154982629742552737307\n",
    "94953759765105305946966067683156574377167401875275\n",
    "88902802571733229619176668713819931811048770190271\n",
    "25267680276078003013678680992525463401061632866526\n",
    "36270218540497705585629946580636237993140746255962\n",
    "24074486908231174977792365466257246923322810917141\n",
    "91430288197103288597806669760892938638285025333403\n",
    "34413065578016127815921815005561868836468420090470\n",
    "23053081172816430487623791969842487255036638784583\n",
    "11487696932154902810424020138335124462181441773470\n",
    "63783299490636259666498587618221225225512486764533\n",
    "67720186971698544312419572409913959008952310058822\n",
    "95548255300263520781532296796249481641953868218774\n",
    "76085327132285723110424803456124867697064507995236\n",
    "37774242535411291684276865538926205024910326572967\n",
    "23701913275725675285653248258265463092207058596522\n",
    "29798860272258331913126375147341994889534765745501\n",
    "18495701454879288984856827726077713721403798879715\n",
    "38298203783031473527721580348144513491373226651381\n",
    "34829543829199918180278916522431027392251122869539\n",
    "40957953066405232632538044100059654939159879593635\n",
    "29746152185502371307642255121183693803580388584903\n",
    "41698116222072977186158236678424689157993532961922\n",
    "62467957194401269043877107275048102390895523597457\n",
    "23189706772547915061505504953922979530901129967519\n",
    "86188088225875314529584099251203829009407770775672\n",
    "11306739708304724483816533873502340845647058077308\n",
    "82959174767140363198008187129011875491310547126581\n",
    "97623331044818386269515456334926366572897563400500\n",
    "42846280183517070527831839425882145521227251250327\n",
    "55121603546981200581762165212827652751691296897789\n",
    "32238195734329339946437501907836945765883352399886\n",
    "75506164965184775180738168837861091527357929701337\n",
    "62177842752192623401942399639168044983993173312731\n",
    "32924185707147349566916674687634660915035914677504\n",
    "99518671430235219628894890102423325116913619626622\n",
    "73267460800591547471830798392868535206946944540724\n",
    "76841822524674417161514036427982273348055556214818\n",
    "97142617910342598647204516893989422179826088076852\n",
    "87783646182799346313767754307809363333018982642090\n",
    "10848802521674670883215120185883543223812876952786\n",
    "71329612474782464538636993009049310363619763878039\n",
    "62184073572399794223406235393808339651327408011116\n",
    "66627891981488087797941876876144230030984490851411\n",
    "60661826293682836764744779239180335110989069790714\n",
    "85786944089552990653640447425576083659976645795096\n",
    "66024396409905389607120198219976047599490197230297\n",
    "64913982680032973156037120041377903785566085089252\n",
    "16730939319872750275468906903707539413042652315011\n",
    "94809377245048795150954100921645863754710598436791\n",
    "78639167021187492431995700641917969777599028300699\n",
    "15368713711936614952811305876380278410754449733078\n",
    "40789923115535562561142322423255033685442488917353\n",
    "44889911501440648020369068063960672322193204149535\n",
    "41503128880339536053299340368006977710650566631954\n",
    "81234880673210146739058568557934581403627822703280\n",
    "82616570773948327592232845941706525094512325230608\n",
    "22918802058777319719839450180888072429661980811197\n",
    "77158542502016545090413245809786882778948721859617\n",
    "72107838435069186155435662884062257473692284509516\n",
    "20849603980134001723930671666823555245252804609722\n",
    "53503534226472524250874054075591789781264330331690\"\"\""
   ]
  },
  {
   "cell_type": "code",
   "execution_count": 8,
   "id": "afbeedfa-3c0a-4f87-855f-2539d71075a2",
   "metadata": {},
   "outputs": [],
   "source": [
    "L = S.split('\\n')"
   ]
  },
  {
   "cell_type": "code",
   "execution_count": 9,
   "id": "b5debb36-dee1-4822-990b-71ccdfecc9c0",
   "metadata": {},
   "outputs": [
    {
     "name": "stdout",
     "output_type": "stream",
     "text": [
      "5537376230\n"
     ]
    }
   ],
   "source": [
    "N = 0\n",
    "for k in L:\n",
    "    N += int(k)\n",
    "print(str(N)[:10])"
   ]
  },
  {
   "cell_type": "markdown",
   "id": "1f45f25d-5fcf-4d50-9e76-6deabd0f31ad",
   "metadata": {},
   "source": [
    "# Problem 14"
   ]
  },
  {
   "cell_type": "code",
   "execution_count": 23,
   "id": "d3c9202d-3e5e-4055-a408-a88ca245c102",
   "metadata": {},
   "outputs": [
    {
     "name": "stdout",
     "output_type": "stream",
     "text": [
      "Time:  34.41692662239075\n",
      "837799\n"
     ]
    }
   ],
   "source": [
    "import time\n",
    "\n",
    "b = time.time()\n",
    "M = 0\n",
    "I = 0\n",
    "for j in range(1000000):\n",
    "    chain_length = 0\n",
    "    i = j\n",
    "    while i > 1:\n",
    "        if i%2 == 0:\n",
    "            i //= 2\n",
    "        else:\n",
    "            i = 3 * i + 1\n",
    "        chain_length += 1\n",
    "    if chain_length > M:\n",
    "        M = chain_length\n",
    "        I = j\n",
    "        \n",
    "e = time.time()\n",
    "print(\"Time: \", e - b)\n",
    "print(I)"
   ]
  },
  {
   "cell_type": "markdown",
   "id": "0f5fd1e3-61fb-4fc3-b197-3ec5adcc7156",
   "metadata": {},
   "source": [
    "This is correct. But it takes 30 seconds: It is very slow. Before we look at the overview... can we think of a way to improve it? We evaluate terms repeatedly. I'm trying to take advantage of that. If we store a dictionary of chain_length at a certain index, when we come across that index again we can just add the cached chain length."
   ]
  },
  {
   "cell_type": "code",
   "execution_count": 2,
   "id": "d83a4772-4c28-47d8-9436-ae491de86326",
   "metadata": {},
   "outputs": [
    {
     "name": "stdout",
     "output_type": "stream",
     "text": [
      "Time:  3.3854944705963135\n",
      "837799\n"
     ]
    }
   ],
   "source": [
    "import time\n",
    "\n",
    "b = time.time()\n",
    "D = {}\n",
    "R = 1000000\n",
    "M = 0\n",
    "I = 0\n",
    "for j in range(R):\n",
    "    chain_length = 0\n",
    "    i = j\n",
    "    while i > 1:\n",
    "        chain_length += 1\n",
    "        if i%2 == 0:\n",
    "            i //= 2\n",
    "        else:\n",
    "            i = 3 * i + 1\n",
    "        if i in D:\n",
    "            chain_length += D[i]\n",
    "            break\n",
    "    D[j] = chain_length\n",
    "    if chain_length > M:\n",
    "        M = chain_length\n",
    "        I = j\n",
    "        \n",
    "e = time.time()\n",
    "print(\"Time: \", e - b)\n",
    "print(I)"
   ]
  },
  {
   "cell_type": "markdown",
   "id": "7b826116-41a3-4436-bd95-1dd637c52b19",
   "metadata": {},
   "source": [
    "10 times faster!!! :D WAHOOOO! We can shave a second off my using a list instead of a dictionary. This removes the linear search. See below."
   ]
  },
  {
   "cell_type": "code",
   "execution_count": 5,
   "id": "8a58670b-b6e3-4544-bce5-7dad2fe8dc49",
   "metadata": {},
   "outputs": [
    {
     "name": "stdout",
     "output_type": "stream",
     "text": [
      "Time:  2.425842046737671\n",
      "837799\n"
     ]
    }
   ],
   "source": [
    "import time\n",
    "\n",
    "b = time.time()\n",
    "R = 1000000\n",
    "R2 = int(R/2)\n",
    "D = [0] * R\n",
    "M = 0\n",
    "I = 0\n",
    "for j in range(R):\n",
    "    chain_length = 0\n",
    "    i = j\n",
    "    while i > 1:\n",
    "        chain_length += 1\n",
    "        if i%2 == 0:\n",
    "            i //= 2\n",
    "        else:\n",
    "            i = 3 * i + 1\n",
    "        if i < len(D) and D[i] > 0:\n",
    "            chain_length += D[i]\n",
    "            break\n",
    "    D[j] = chain_length\n",
    "    if chain_length > M:\n",
    "        M = chain_length\n",
    "        I = j\n",
    "        \n",
    "e = time.time()\n",
    "print(\"Time: \", e - b)\n",
    "print(I)"
   ]
  },
  {
   "cell_type": "markdown",
   "id": "98855778-92f6-49a6-b32c-58bf7afda778",
   "metadata": {},
   "source": [
    "Ok, looking at the overview we have already used the main optimisation :). We are down to 2.3 seconds. To squeeze a bit more I am going to use the overview implementation. This version is essentially a recursive approach."
   ]
  },
  {
   "cell_type": "code",
   "execution_count": 6,
   "id": "afd22f24-8ff9-4a52-b108-0e44a09e10ef",
   "metadata": {},
   "outputs": [
    {
     "name": "stdout",
     "output_type": "stream",
     "text": [
      "837799\n",
      "Time:  1.9827320575714111\n"
     ]
    }
   ],
   "source": [
    "import time \n",
    "\n",
    "b = time.time()\n",
    "def count_chain(n):\n",
    "    if n in values:\n",
    "        return values[n]\n",
    "    if n % 2 == 0:\n",
    "        values[n] = 1 + count_chain(n / 2)\n",
    "    else:\n",
    "        values[n] = 2 + count_chain((3 * n + 1) / 2)\n",
    "    return values[n]\n",
    "\n",
    "longest_chain = 0\n",
    "answer = 1\n",
    "values = {1: 1}\n",
    "\n",
    "for number in range(500000, 1000000):\n",
    "    cc = count_chain(number)\n",
    "    if cc > longest_chain:\n",
    "        longest_chain = cc\n",
    "        answer = number\n",
    "\n",
    "e = time.time()\n",
    "print(answer)\n",
    "print(\"Time: \", e - b)"
   ]
  },
  {
   "cell_type": "markdown",
   "id": "13736dbb-0ee8-4389-9581-0d695eb01c8c",
   "metadata": {},
   "source": [
    "Another half a second quicker. With hindsight a recursive algorithm is definately cleaner."
   ]
  },
  {
   "cell_type": "markdown",
   "id": "c18bc064-2a3f-4d62-b5fa-0a8522f0e51a",
   "metadata": {},
   "source": [
    "# Probelm 15"
   ]
  },
  {
   "cell_type": "markdown",
   "id": "d0673d56-b85c-45bd-97a4-f0f13125993c",
   "metadata": {},
   "source": [
    "We don't need any code to solve this problem. It is the binomial coeficient ${40}\\choose{20}$. This is beacuse we have to select 20 moves from 40 total moves to move right."
   ]
  },
  {
   "cell_type": "markdown",
   "id": "7ed8be98-e69e-48f9-a117-e51bec3e9385",
   "metadata": {},
   "source": [
    "# Problem 16"
   ]
  },
  {
   "cell_type": "code",
   "execution_count": 3,
   "id": "39f9eecf-3d10-444e-bcd6-da662a5b7ded",
   "metadata": {},
   "outputs": [
    {
     "name": "stdout",
     "output_type": "stream",
     "text": [
      "Time:  0.0003399848937988281\n",
      "1366\n"
     ]
    }
   ],
   "source": [
    "import time\n",
    "\n",
    "b = time.time()\n",
    "S = str(2 ** 1000)\n",
    "SS = 0\n",
    "for s in S:\n",
    "    SS += int(s)\n",
    "e = time.time()\n",
    "print(\"Time: \", e - b)\n",
    "print(SS)"
   ]
  },
  {
   "cell_type": "markdown",
   "id": "954f81ed-a114-4031-a0b7-a8abc19ef37e",
   "metadata": {},
   "source": [
    "is there an analytical way? I don't think so. This is a really nice solution"
   ]
  },
  {
   "cell_type": "code",
   "execution_count": 4,
   "id": "dd37f440-0023-4293-a19d-9e538fac8f9b",
   "metadata": {},
   "outputs": [
    {
     "name": "stdout",
     "output_type": "stream",
     "text": [
      "Time:  0.00023126602172851562\n"
     ]
    }
   ],
   "source": [
    "b = time.time()\n",
    "sum(int(digit) for digit in str(2**1000))\n",
    "e = time.time()\n",
    "print(\"Time: \", e - b)"
   ]
  },
  {
   "cell_type": "markdown",
   "id": "88be287d-01e9-44a5-88dc-167362aa4ef8",
   "metadata": {},
   "source": [
    "quicker too!"
   ]
  },
  {
   "cell_type": "markdown",
   "id": "e3915e16-a4e0-4b3f-b25a-37e5408e7215",
   "metadata": {},
   "source": [
    "# Problem 17\n",
    "This is quite easy. Just a load of tricky calculations that can be done by hand."
   ]
  },
  {
   "cell_type": "markdown",
   "id": "c48f8cbf-24e6-4b8a-88da-93b190e05ab2",
   "metadata": {},
   "source": [
    "# Problem 18"
   ]
  },
  {
   "cell_type": "markdown",
   "id": "3d6b21b8-28c5-4c4c-9a7f-f4a977d33347",
   "metadata": {},
   "source": [
    "It is noted that BF will solve this, but we need a smart method for 67"
   ]
  },
  {
   "cell_type": "code",
   "execution_count": 1,
   "id": "6aaf1ce3-4b98-4eab-a840-c044843dbe84",
   "metadata": {},
   "outputs": [],
   "source": [
    "S = \"\"\"75\n",
    "95 64\n",
    "17 47 82\n",
    "18 35 87 10\n",
    "20 04 82 47 65\n",
    "19 01 23 75 03 34\n",
    "88 02 77 73 07 63 67\n",
    "99 65 04 28 06 16 70 92\n",
    "41 41 26 56 83 40 80 70 33\n",
    "41 48 72 33 47 32 37 16 94 29\n",
    "53 71 44 65 25 43 91 52 97 51 14\n",
    "70 11 33 28 77 73 17 78 39 68 17 57\n",
    "91 71 52 38 17 14 91 43 58 50 27 29 48\n",
    "63 66 04 68 89 53 67 30 73 16 69 87 40 31\n",
    "04 62 98 27 23 09 70 98 73 93 38 53 60 04 23\"\"\"\n",
    "\n",
    "S = S.split('\\n')\n",
    "S = [s.split() for s in S]\n",
    "S = [[int(s) for s in k] for k in S]"
   ]
  },
  {
   "cell_type": "code",
   "execution_count": 21,
   "id": "b83e6236-bf82-4c93-acc8-4870ac476e08",
   "metadata": {},
   "outputs": [
    {
     "data": {
      "text/plain": [
       "[[75],\n",
       " [95, 64],\n",
       " [17, 47, 82],\n",
       " [18, 35, 87, 10],\n",
       " [20, 4, 82, 47, 65],\n",
       " [19, 1, 23, 75, 3, 34],\n",
       " [88, 2, 77, 73, 7, 63, 67],\n",
       " [99, 65, 4, 28, 6, 16, 70, 92],\n",
       " [41, 41, 26, 56, 83, 40, 80, 70, 33],\n",
       " [41, 48, 72, 33, 47, 32, 37, 16, 94, 29],\n",
       " [53, 71, 44, 65, 25, 43, 91, 52, 97, 51, 14],\n",
       " [70, 11, 33, 28, 77, 73, 17, 78, 39, 68, 17, 57],\n",
       " [91, 71, 52, 38, 17, 14, 91, 43, 58, 50, 27, 29, 48],\n",
       " [63, 66, 4, 68, 89, 53, 67, 30, 73, 16, 69, 87, 40, 31],\n",
       " [4, 62, 98, 27, 23, 9, 70, 98, 73, 93, 38, 53, 60, 4, 23]]"
      ]
     },
     "execution_count": 21,
     "metadata": {},
     "output_type": "execute_result"
    }
   ],
   "source": [
    "S"
   ]
  },
  {
   "cell_type": "markdown",
   "id": "c6393e69-999b-497a-9793-836630a4d14f",
   "metadata": {},
   "source": [
    "My brute force idea is to generate a list of indices that define a path through the triangular list of lists above. We can just range from 0 to 14 for the first index but the second index is going to have provide us with legitimate paths."
   ]
  },
  {
   "cell_type": "code",
   "execution_count": 3,
   "id": "b8cafcc6-1473-4123-85cd-4ea267194893",
   "metadata": {},
   "outputs": [
    {
     "name": "stdout",
     "output_type": "stream",
     "text": [
      "[[0, 0, 0, 0], [0, 0, 0, 1], [0, 0, 1, 1], [0, 0, 1, 2], [0, 1, 1, 1], [0, 1, 1, 2], [0, 1, 2, 2], [0, 1, 2, 3]]\n"
     ]
    }
   ],
   "source": [
    "def index_list(x):\n",
    "    IL = []\n",
    "    for i in [0,1]:\n",
    "        for j in [0,1,2]:\n",
    "            for k in [0,1,2,3]:\n",
    "                if i <= j and j <= k and abs(i-j) < 2 and abs(j-k) < 2:\n",
    "                    IL.append([x, x + i, x + j, x + k])\n",
    "    return IL\n",
    "\n",
    "print(index_list(0))"
   ]
  },
  {
   "cell_type": "markdown",
   "id": "cf026266-4c0d-480b-a1f4-88e85a8c747e",
   "metadata": {},
   "source": [
    "I could not figure out how to generalise this to lists of size $n$, so I asked on stack overflow. A very nice gentleman provided me with a VERY nice solution. See here:\n",
    "\n",
    "https://stackoverflow.com/questions/79604815/creating-a-list-of-integer-lists-that-have-a-fixed-length-and-contain-integers-t/79604868#79604868"
   ]
  },
  {
   "cell_type": "code",
   "execution_count": 31,
   "id": "09fbfd72-73b8-4996-8772-010e21b8ebd5",
   "metadata": {},
   "outputs": [
    {
     "name": "stdout",
     "output_type": "stream",
     "text": [
      "1074\n",
      "Time:  0.17477726936340332\n"
     ]
    }
   ],
   "source": [
    "from itertools import product\n",
    "import time\n",
    "\n",
    "def generate_sequences(n, x=0):\n",
    "    if n == 0:\n",
    "        return []\n",
    "    deltas = product([0, 1], repeat=n-1)\n",
    "    sequences = []\n",
    "    for delta_seq in deltas:\n",
    "        sequence = [x]\n",
    "        current = x\n",
    "        for delta in delta_seq:\n",
    "            current += delta\n",
    "            sequence.append(current)\n",
    "        sequences.append(sequence)\n",
    "    return sequences\n",
    "\n",
    "b = time.time()\n",
    "max_sum = 0\n",
    "IL = generate_sequences(15)\n",
    "for il in IL:\n",
    "    s = 0\n",
    "    for i in range(len(il)):\n",
    "        s += S[i][il[i]]\n",
    "    if s > max_sum:\n",
    "        max_sum = s\n",
    "e = time.time()\n",
    "print(max_sum)\n",
    "print(\"Time: \", e -b) "
   ]
  },
  {
   "cell_type": "markdown",
   "id": "d2c7472d-872e-46d1-b1fe-38987059bfdf",
   "metadata": {},
   "source": [
    "This solution is very nice. The generate_sequences generates \"deltas\". \"deltas\" are lists whos indices indicate that the number has either remained the same (0) or has increased (1). We then maintain a current integer that increases each time we come across a 1. At this point I am a major python noob and what I was really looking for was the function \"product\" from itertools. If I had that I think I could have pieced together a solution. I hope. Another very nice solution was a recursive solution."
   ]
  },
  {
   "cell_type": "code",
   "execution_count": 37,
   "id": "dd119b41-8569-444d-a7dd-aa89d06f8fe3",
   "metadata": {},
   "outputs": [
    {
     "name": "stdout",
     "output_type": "stream",
     "text": [
      "1074\n",
      "Time:  0.19403433799743652\n"
     ]
    }
   ],
   "source": [
    "from itertools import product\n",
    "import time\n",
    "\n",
    "def index_list(n, low=0):\n",
    "    if n == 1:  # base case\n",
    "        yield [low]\n",
    "    else:\n",
    "        # if we keep the same value as low\n",
    "        for result in index_list(n - 1, low): \n",
    "            yield [low, *result]\n",
    "        # if we don't keep the same value as low\n",
    "        for result in index_list(n - 1, low + 1):\n",
    "            yield [low, *result]\n",
    "\n",
    "b = time.time()\n",
    "max_sum = 0\n",
    "IL = index_list(15)\n",
    "for il in IL:\n",
    "    s = 0\n",
    "    for i in range(len(il)):\n",
    "        s += S[i][il[i]]\n",
    "    if s > max_sum:\n",
    "        max_sum = s\n",
    "e = time.time()\n",
    "print(max_sum)\n",
    "print(\"Time: \", e -b) "
   ]
  },
  {
   "cell_type": "markdown",
   "id": "8a54f52c-9608-4847-8aa1-aca3d94a9751",
   "metadata": {},
   "source": [
    "# Problem 19"
   ]
  },
  {
   "cell_type": "code",
   "execution_count": 10,
   "id": "4f9a1453-22a5-4e33-a05f-5b7e1e6e3689",
   "metadata": {},
   "outputs": [
    {
     "name": "stdout",
     "output_type": "stream",
     "text": [
      "171\n"
     ]
    }
   ],
   "source": [
    "year = 1901\n",
    "leap_year = False\n",
    "months = [31, 28, 31, 30, 31, 30, 31, 31, 30, 31, 30, 31]\n",
    "month = 0\n",
    "day = 6\n",
    "# 6 January 1901 is a sunday\n",
    "\n",
    "count = 0\n",
    "while year < 2001:\n",
    "    if day == 1:\n",
    "        count += 1\n",
    "    day += 7\n",
    "    m = months[month]\n",
    "    if year % 4 == 0 and month == 1:\n",
    "        m = 29\n",
    "    if day > m:\n",
    "        day = day % m\n",
    "        month += 1\n",
    "    if month == 12:\n",
    "        month = 0\n",
    "        year += 1\n",
    "\n",
    "print(count)"
   ]
  },
  {
   "cell_type": "markdown",
   "id": "e001ce03-2620-4ce9-be68-d75eed495da7",
   "metadata": {},
   "source": [
    "# Problem 20"
   ]
  },
  {
   "cell_type": "code",
   "execution_count": 13,
   "id": "cc54016f-20e2-4e40-a94a-59cffc2d4707",
   "metadata": {},
   "outputs": [
    {
     "name": "stdout",
     "output_type": "stream",
     "text": [
      "648\n"
     ]
    }
   ],
   "source": [
    "import math\n",
    "s = 0\n",
    "S = str(math.factorial(100))\n",
    "for k in S:\n",
    "    s += int(k)\n",
    "print(s)"
   ]
  },
  {
   "cell_type": "code",
   "execution_count": null,
   "id": "cf3bcaf4-bcdd-4f6e-980b-dfb696266dd1",
   "metadata": {},
   "outputs": [],
   "source": []
  }
 ],
 "metadata": {
  "kernelspec": {
   "display_name": "Python 3 (ipykernel)",
   "language": "python",
   "name": "python3"
  },
  "language_info": {
   "codemirror_mode": {
    "name": "ipython",
    "version": 3
   },
   "file_extension": ".py",
   "mimetype": "text/x-python",
   "name": "python",
   "nbconvert_exporter": "python",
   "pygments_lexer": "ipython3",
   "version": "3.11.2"
  }
 },
 "nbformat": 4,
 "nbformat_minor": 5
}
