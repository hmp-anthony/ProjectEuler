{
 "cells": [
  {
   "cell_type": "markdown",
   "id": "8b7c54f5-3e91-446f-999d-ace1dbd3dbac",
   "metadata": {},
   "source": [
    "# Problem 2"
   ]
  },
  {
   "cell_type": "code",
   "execution_count": 1,
   "id": "17675636-4541-43ca-8240-e16cb5369376",
   "metadata": {},
   "outputs": [],
   "source": [
    "def fib(n):\n",
    "    if n == 1:\n",
    "        return 1\n",
    "    if n == 2:\n",
    "        return 2\n",
    "    return fib(n - 1) + fib(n - 2)\n"
   ]
  },
  {
   "cell_type": "code",
   "execution_count": 12,
   "id": "78b19de0-28c8-49bd-9c19-5b0014e0be72",
   "metadata": {},
   "outputs": [
    {
     "data": {
      "text/plain": [
       "3524578"
      ]
     },
     "execution_count": 12,
     "metadata": {},
     "output_type": "execute_result"
    }
   ],
   "source": [
    "fib(32)"
   ]
  },
  {
   "cell_type": "code",
   "execution_count": 13,
   "id": "397feecc-09d5-4617-8a7c-047186b5fddc",
   "metadata": {},
   "outputs": [
    {
     "data": {
      "text/plain": [
       "5702887"
      ]
     },
     "execution_count": 13,
     "metadata": {},
     "output_type": "execute_result"
    }
   ],
   "source": [
    "fib(33)"
   ]
  },
  {
   "cell_type": "code",
   "execution_count": 21,
   "id": "16636f46-bdd6-49d9-8697-5d28de708b93",
   "metadata": {},
   "outputs": [],
   "source": [
    "sum_of_evens = 0\n",
    "a = 1\n",
    "b = 2\n",
    "for i in range(2,33):\n",
    "    n = fib(i)\n",
    "    if n % 2 == 0:\n",
    "        sum_of_evens = sum_of_evens + n"
   ]
  },
  {
   "cell_type": "code",
   "execution_count": 22,
   "id": "46f4d4ce-2c09-4250-aab2-aabd5ff451d7",
   "metadata": {},
   "outputs": [
    {
     "data": {
      "text/plain": [
       "4613732"
      ]
     },
     "execution_count": 22,
     "metadata": {},
     "output_type": "execute_result"
    }
   ],
   "source": [
    "sum_of_evens"
   ]
  },
  {
   "cell_type": "code",
   "execution_count": 41,
   "id": "7563425c-7ce5-4b7f-bb82-a17ecfbab223",
   "metadata": {},
   "outputs": [],
   "source": [
    "sum_of_evens = 2\n",
    "a = 1\n",
    "b = 2\n",
    "while True:\n",
    "    h = a + b\n",
    "    if h > 4000000:\n",
    "        break\n",
    "    if h % 2 == 0:\n",
    "        sum_of_evens = sum_of_evens + h\n",
    "    a = b\n",
    "    b = h"
   ]
  },
  {
   "cell_type": "code",
   "execution_count": 42,
   "id": "f86c9e84-920a-40b5-bba4-aa3b11ac00ff",
   "metadata": {},
   "outputs": [
    {
     "data": {
      "text/plain": [
       "4613732"
      ]
     },
     "execution_count": 42,
     "metadata": {},
     "output_type": "execute_result"
    }
   ],
   "source": [
    "sum_of_evens"
   ]
  },
  {
   "cell_type": "markdown",
   "id": "6f7cabde-b0e8-427a-8669-7f9c525e3679",
   "metadata": {},
   "source": [
    "# Problem 3"
   ]
  },
  {
   "cell_type": "code",
   "execution_count": 17,
   "id": "20add885-2484-480f-a621-8fbcc8144279",
   "metadata": {},
   "outputs": [
    {
     "data": {
      "text/plain": [
       "775146.0992245268"
      ]
     },
     "execution_count": 17,
     "metadata": {},
     "output_type": "execute_result"
    }
   ],
   "source": [
    "import math\n",
    "math.sqrt(600851475143)"
   ]
  },
  {
   "cell_type": "code",
   "execution_count": 21,
   "id": "45cbea80-2aea-4f55-9672-869cc8e5ac05",
   "metadata": {},
   "outputs": [],
   "source": [
    "I = list(range(775146))"
   ]
  },
  {
   "cell_type": "code",
   "execution_count": 22,
   "id": "741b88fd-0f7e-4ee9-ba40-5f1b497e0000",
   "metadata": {},
   "outputs": [],
   "source": [
    "for k in I:\n",
    "    if k < 2:\n",
    "        continue\n",
    "    l = 2\n",
    "    while l*k < len(I):\n",
    "        I[l*k] = 0\n",
    "        l = l + 1"
   ]
  },
  {
   "cell_type": "code",
   "execution_count": 23,
   "id": "605342b8-b203-4567-b5be-29edd1f77ec0",
   "metadata": {},
   "outputs": [
    {
     "data": {
      "text/plain": [
       "775121"
      ]
     },
     "execution_count": 23,
     "metadata": {},
     "output_type": "execute_result"
    }
   ],
   "source": [
    "P = []\n",
    "for i in I:\n",
    "    if i > 0:\n",
    "        P.append(i)\n",
    "P[-1]"
   ]
  },
  {
   "cell_type": "markdown",
   "id": "087c9fe2-9660-42ed-9975-dea6e61389ac",
   "metadata": {},
   "source": [
    "we now have primes."
   ]
  },
  {
   "cell_type": "code",
   "execution_count": 24,
   "id": "3eaf9f48-5863-428d-939a-b23505de10e6",
   "metadata": {},
   "outputs": [
    {
     "data": {
      "text/plain": [
       "6857"
      ]
     },
     "execution_count": 24,
     "metadata": {},
     "output_type": "execute_result"
    }
   ],
   "source": [
    "largest_prime = P[0]\n",
    "for p in P:\n",
    "    if 600851475143 % p == 0:\n",
    "        largest_prime = p\n",
    "largest_prime"
   ]
  },
  {
   "cell_type": "markdown",
   "id": "060d0779-beab-4b8f-b2a6-aac2584350f7",
   "metadata": {},
   "source": [
    "# Problem 4"
   ]
  },
  {
   "cell_type": "markdown",
   "id": "66209471-40b1-4847-a9fd-b9b5cd719cb4",
   "metadata": {},
   "source": [
    "This is about as fast as you can get!"
   ]
  },
  {
   "cell_type": "code",
   "execution_count": 188,
   "id": "9722258e-7fe3-44e9-8467-b1142188092e",
   "metadata": {},
   "outputs": [],
   "source": [
    "largest_palindrome = 0\n",
    "for k in range(999, 99,-1):\n",
    "    for l in range(k, 99, -1):\n",
    "        n = k * l\n",
    "        # we can quit early by starting with largest numbers first.\n",
    "        if n < largest_palindrome:\n",
    "            break\n",
    "        s = list(str(n))\n",
    "        if s[:len(s) // 2] == s[-1:(len(s) - 1)// 2:-1] and n > largest_palindrome:\n",
    "            largest_palindrome = n"
   ]
  },
  {
   "cell_type": "code",
   "execution_count": 189,
   "id": "43539798-15f3-4d11-8bc9-34bc3612e6dc",
   "metadata": {},
   "outputs": [
    {
     "data": {
      "text/plain": [
       "10000"
      ]
     },
     "execution_count": 189,
     "metadata": {},
     "output_type": "execute_result"
    }
   ],
   "source": [
    "n"
   ]
  },
  {
   "cell_type": "code",
   "execution_count": 190,
   "id": "8568363d-20d9-4e55-a267-56a6f8c70854",
   "metadata": {},
   "outputs": [
    {
     "data": {
      "text/plain": [
       "906609"
      ]
     },
     "execution_count": 190,
     "metadata": {},
     "output_type": "execute_result"
    }
   ],
   "source": [
    "largest_palindrome"
   ]
  },
  {
   "cell_type": "code",
   "execution_count": 191,
   "id": "0de36457-9625-435e-bdcc-e778bf7ea23d",
   "metadata": {},
   "outputs": [
    {
     "data": {
      "text/plain": [
       "['1', '0', '0', '1']"
      ]
     },
     "execution_count": 191,
     "metadata": {},
     "output_type": "execute_result"
    }
   ],
   "source": [
    "L = list(str(1001))\n",
    "L"
   ]
  },
  {
   "cell_type": "code",
   "execution_count": 192,
   "id": "cef3206c-e507-463a-89b2-84d811579362",
   "metadata": {},
   "outputs": [
    {
     "data": {
      "text/plain": [
       "[0, 1]"
      ]
     },
     "execution_count": 192,
     "metadata": {},
     "output_type": "execute_result"
    }
   ],
   "source": [
    "list(range(len(L)//2))"
   ]
  },
  {
   "cell_type": "code",
   "execution_count": 193,
   "id": "cddd61b3-3656-4bd4-8fb9-b0d751ab5779",
   "metadata": {},
   "outputs": [
    {
     "data": {
      "text/plain": [
       "True"
      ]
     },
     "execution_count": 193,
     "metadata": {},
     "output_type": "execute_result"
    }
   ],
   "source": [
    "[1,2,3] == [1,2,3]"
   ]
  },
  {
   "cell_type": "code",
   "execution_count": 194,
   "id": "90982863-3197-4b75-911f-8a25b0f308b7",
   "metadata": {},
   "outputs": [
    {
     "data": {
      "text/plain": [
       "['1', '0']"
      ]
     },
     "execution_count": 194,
     "metadata": {},
     "output_type": "execute_result"
    }
   ],
   "source": [
    "A = L[:len(L) // 2]\n",
    "A"
   ]
  },
  {
   "cell_type": "code",
   "execution_count": 149,
   "id": "8507274f-044d-4580-b429-ac05dd59db52",
   "metadata": {},
   "outputs": [
    {
     "data": {
      "text/plain": [
       "['1', '0']"
      ]
     },
     "execution_count": 149,
     "metadata": {},
     "output_type": "execute_result"
    }
   ],
   "source": [
    "B = L[-1: (len(L) - 1)// 2 :-1]\n",
    "B"
   ]
  },
  {
   "cell_type": "code",
   "execution_count": 195,
   "id": "19803caa-4156-45fb-ae72-1067b1271343",
   "metadata": {},
   "outputs": [
    {
     "data": {
      "text/plain": [
       "True"
      ]
     },
     "execution_count": 195,
     "metadata": {},
     "output_type": "execute_result"
    }
   ],
   "source": [
    "A == B"
   ]
  },
  {
   "cell_type": "code",
   "execution_count": 196,
   "id": "59dbd923-b9b2-47de-88d4-b39b46368cdd",
   "metadata": {},
   "outputs": [
    {
     "data": {
      "text/plain": [
       "998001"
      ]
     },
     "execution_count": 196,
     "metadata": {},
     "output_type": "execute_result"
    }
   ],
   "source": [
    "999*999"
   ]
  },
  {
   "cell_type": "code",
   "execution_count": 197,
   "id": "81772c40-3694-49f9-b4f9-8d1a980c442c",
   "metadata": {},
   "outputs": [
    {
     "data": {
      "text/plain": [
       "2"
      ]
     },
     "execution_count": 197,
     "metadata": {},
     "output_type": "execute_result"
    }
   ],
   "source": [
    "len(L) // 2"
   ]
  },
  {
   "cell_type": "markdown",
   "id": "05d8bf00-02d0-4948-a671-5cbe68ad538c",
   "metadata": {},
   "source": [
    "# Problem 5"
   ]
  },
  {
   "cell_type": "code",
   "execution_count": 24,
   "id": "5fe7ca18-d3a5-4ae5-8954-cffc5f7423e3",
   "metadata": {},
   "outputs": [
    {
     "name": "stdout",
     "output_type": "stream",
     "text": [
      "232792560\n"
     ]
    }
   ],
   "source": [
    "for i in range(100000000,1000000000):\n",
    "    div = [False] * 10\n",
    "    for k in range(11,21):\n",
    "        if i % k == 0:\n",
    "            div[k-11] = True\n",
    "        else:\n",
    "            break\n",
    "    if all(div):\n",
    "        print(i)\n",
    "        break"
   ]
  },
  {
   "cell_type": "code",
   "execution_count": 17,
   "id": "3d514392-6fc2-4f5f-a9b7-7044e6798a2b",
   "metadata": {},
   "outputs": [
    {
     "data": {
      "text/plain": [
       "[11, 12, 13, 14, 15, 16, 17, 18, 19, 20]"
      ]
     },
     "execution_count": 17,
     "metadata": {},
     "output_type": "execute_result"
    }
   ],
   "source": [
    "list(range(11,21))"
   ]
  },
  {
   "cell_type": "markdown",
   "id": "1af92669-3856-413e-a85b-0f3733161316",
   "metadata": {},
   "source": [
    "We could have done this by hand.\n",
    "\n",
    "11 = 11 \\\n",
    "12 = 3 x 4 \\\n",
    "13 = 13 \\\n",
    "14 = 2 x 7 \\\n",
    "15 = 3 x 5 \\\n",
    "16 = 2 x 2 x 2 x 2 \\\n",
    "17 = 17 \\\n",
    "18 = 2 x 3 x 3 \\\n",
    "19 = 19 \\\n",
    "20 = 2 x 2 x 5 \n",
    "\n",
    "Hence LCM = 2 ** 4 x 3 ** 2 x 5 x 7 x 11 x 13 x 17 x 19 "
   ]
  },
  {
   "cell_type": "code",
   "execution_count": 25,
   "id": "a7d6c02f-af2b-4aef-ad8b-3dd4643632a5",
   "metadata": {},
   "outputs": [],
   "source": [
    "LCM = 2**4 * 3**2 * 5 * 7 * 11 * 13 * 17 * 19 "
   ]
  },
  {
   "cell_type": "code",
   "execution_count": 27,
   "id": "18cb4efa-b716-4ace-861b-16b4694774fd",
   "metadata": {},
   "outputs": [
    {
     "data": {
      "text/plain": [
       "232792560"
      ]
     },
     "execution_count": 27,
     "metadata": {},
     "output_type": "execute_result"
    }
   ],
   "source": [
    "LCM"
   ]
  },
  {
   "cell_type": "markdown",
   "id": "f69e3ad5-7fd1-47e3-92ed-39c73a1cc250",
   "metadata": {},
   "source": [
    "In the overview a method is mentioned that uses the following observation:\n",
    "\n",
    "What determines the exponent of the prime number in the prime factorisation of $N$ is the greatest perfect power of the prime that is less than or equal to $k = 20$. Where $N$ is the least common multiple of the numbers $1,..., k = 20$. Consider the exponent of the prime number $2$. Note that $2^4 = 16, 2^5 = 32$. There are no numbers between $2$ and $20$ that REQUIRE $2$ to be raised to the fifth power. By sequentially examining the primes under $20$ we obtain the required number.\n",
    "\n",
    "Consider the following equation: $p^j = k$. Taking logs, we obtain $j \\log(p) = \\log(k)$. Then $$j = \\left \\lfloor{ \n",
    "\\frac{\\log(k)}{\\log(p)}}\\right \\rfloor.$$\n",
    "\n",
    "An explaination appears here: https://math.stackexchange.com/questions/1462168/statement-from-explanation-of-what-is-the-smallest-number-divisible-by-each-of\n",
    "\n",
    "A further optimisation we can implement is as follows: for primes such that $p^2 > k = 20$, it is clear that the greatest power of the prime $p$ that is less than $k = 20$ is less than 2 and hence the flooring operation will return unity.\n",
    "\n",
    "The implemention is as follows:"
   ]
  },
  {
   "cell_type": "code",
   "execution_count": 20,
   "id": "2432c661-b429-433f-8748-26c245c3ef7c",
   "metadata": {},
   "outputs": [
    {
     "name": "stdout",
     "output_type": "stream",
     "text": [
      "232792560\n"
     ]
    }
   ],
   "source": [
    "import math\n",
    "\n",
    "# could use the \"sieve\" ...\n",
    "p = [2, 3, 5, 7, 11, 13, 17, 19, 23] \n",
    "\n",
    "k = 20\n",
    "N = 1\n",
    "i = 0\n",
    "a = [1] * k\n",
    "check = True\n",
    "\n",
    "# the \"second\" optimisation\n",
    "limit = math.sqrt(k)\n",
    "\n",
    "while p[i] <= k:\n",
    "    if check:\n",
    "        if p[i] <= limit:\n",
    "            a[i] = math.floor( math.log(k) / math.log(p[i]) )\n",
    "        else:\n",
    "            check = False\n",
    "    N = N * p[i] ** a[i]\n",
    "    i = i + 1\n",
    "        \n",
    "print(N)"
   ]
  },
  {
   "cell_type": "markdown",
   "id": "4c0b545a-347f-435d-b4e3-42698bb9ba35",
   "metadata": {},
   "source": [
    "# Problem 6"
   ]
  },
  {
   "cell_type": "code",
   "execution_count": 12,
   "id": "9e528741-55e5-4535-a0a7-b07ab733095c",
   "metadata": {},
   "outputs": [
    {
     "name": "stdout",
     "output_type": "stream",
     "text": [
      "S1  338350\n",
      "S2  25502500\n",
      "result  25164150\n"
     ]
    }
   ],
   "source": [
    "S1 = 0\n",
    "S2 = 0\n",
    "for i in range(1,101):\n",
    "    S1 = S1 + i**2\n",
    "    S2 = S2 + i\n",
    "S2 = S2 ** 2\n",
    "print('S1 ', S1)\n",
    "print('S2 ', S2)\n",
    "print('result ', S2 - S1)"
   ]
  },
  {
   "cell_type": "markdown",
   "id": "a5457782-bad0-40aa-aee9-9ef614b4abf1",
   "metadata": {},
   "source": [
    "The above is a brute force way to get the answer. Since 100 is small, it takes a blink. Also, we can use the formulas for larger numbers."
   ]
  },
  {
   "cell_type": "code",
   "execution_count": 13,
   "id": "402c48c3-d260-4ac2-84d1-d04ea1a55596",
   "metadata": {},
   "outputs": [
    {
     "name": "stdout",
     "output_type": "stream",
     "text": [
      "S1  338350.0\n",
      "S2  25502500.0\n",
      "result  25164150.0\n"
     ]
    }
   ],
   "source": [
    "N = 100\n",
    "S1 = N*(2*N+1)*(N+1)/6\n",
    "S2 = N*(N+1)/2\n",
    "S2 *= S2\n",
    "print('S1 ', S1)\n",
    "print('S2 ', S2)\n",
    "print('result ', S2 - S1)"
   ]
  },
  {
   "cell_type": "markdown",
   "id": "bff96cc0-a6e3-4661-8885-291a0b527032",
   "metadata": {},
   "source": [
    "# Problem 7"
   ]
  },
  {
   "cell_type": "markdown",
   "id": "890c6322-27f5-4360-b7dc-0a9424f41401",
   "metadata": {},
   "source": [
    "Using a sieve"
   ]
  },
  {
   "cell_type": "code",
   "execution_count": 11,
   "id": "e96f7f0c-577d-42e6-a00c-36f1d4667313",
   "metadata": {},
   "outputs": [],
   "source": [
    "I = list(range(110000))\n",
    "for k in I:\n",
    "    if k < 2:\n",
    "        continue\n",
    "    l = 2\n",
    "    while l*k < len(I):\n",
    "        I[l*k] = 0\n",
    "        l = l + 1"
   ]
  },
  {
   "cell_type": "code",
   "execution_count": 12,
   "id": "6a95e45b-c49d-4ee5-957e-e172ce0ca3f9",
   "metadata": {},
   "outputs": [
    {
     "data": {
      "text/plain": [
       "104743"
      ]
     },
     "execution_count": 12,
     "metadata": {},
     "output_type": "execute_result"
    }
   ],
   "source": [
    "P = []\n",
    "for i in I:\n",
    "    if i > 0:\n",
    "        P.append(i)\n",
    "P[10001]"
   ]
  },
  {
   "cell_type": "markdown",
   "id": "9df6d1d1-4207-45be-9a8a-e1dc10bf9fbd",
   "metadata": {},
   "source": [
    "It is mentioned in the overview that, if we know a upper bound then it is most efficient to use a sieve. I will implement the is_prime function in python for later use."
   ]
  },
  {
   "cell_type": "code",
   "execution_count": 3,
   "id": "4c6e84c3-1108-4b85-8199-7674c1ff8aaa",
   "metadata": {},
   "outputs": [],
   "source": [
    "import math \n",
    "\n",
    "def is_prime(n):\n",
    "    if n == 1:\n",
    "        return False\n",
    "    if n < 4:\n",
    "        return True\n",
    "    if n % 2 == 0:\n",
    "        return False\n",
    "    if n < 9:\n",
    "        return True\n",
    "    if n % 3 == 0:\n",
    "        return False\n",
    "    r = int(math.sqrt(n))\n",
    "    f = 5 # trivially 6 - 1\n",
    "    while f <= r:\n",
    "        if n % f == 0: # 6n - 1 \n",
    "            return False\n",
    "        if n % (f + 2) == 0: # 6n + 1\n",
    "            return False\n",
    "        f = f + 6\n",
    "    return True"
   ]
  },
  {
   "cell_type": "code",
   "execution_count": 21,
   "id": "65eba314-ee36-4f88-9b55-18cf9c93de24",
   "metadata": {},
   "outputs": [
    {
     "data": {
      "text/plain": [
       "False"
      ]
     },
     "execution_count": 21,
     "metadata": {},
     "output_type": "execute_result"
    }
   ],
   "source": [
    "is_prime(90)"
   ]
  },
  {
   "cell_type": "code",
   "execution_count": 29,
   "id": "aaf3dc52-80bc-457c-92e9-8b33c3c11d4c",
   "metadata": {},
   "outputs": [
    {
     "name": "stdout",
     "output_type": "stream",
     "text": [
      "104743\n"
     ]
    }
   ],
   "source": [
    "target = 10001\n",
    "count = 1\n",
    "i = 1\n",
    "while count != target:\n",
    "    i = i + 2\n",
    "    if is_prime(i):\n",
    "        count = count + 1\n",
    "\n",
    "print(i)"
   ]
  },
  {
   "cell_type": "markdown",
   "id": "e069aae3-9904-456c-ba73-e7b77b922aa1",
   "metadata": {},
   "source": [
    "# Problem 8"
   ]
  },
  {
   "cell_type": "code",
   "execution_count": 31,
   "id": "a4bfdee4-9b31-4618-9633-4b9a50032e9c",
   "metadata": {},
   "outputs": [],
   "source": [
    "S = \"\"\"7316717653133062491922511967442657474235534919493496983520312774506326239578318016984801869478851843858615607891129494954595017379583319528532088055111254069874715852386305071569329096329522744304355766896648950445244523161731856403098711121722383113622298934233803081353362766142828064444866452387493035890729629049156044077239071381051585930796086670172427121883998797908792274921901699720888093776657273330010533678812202354218097512545405947522435258490771167055601360483958644670632441572215539753697817977846174064955149290862569321978468622482839722413756570560574902614079729686524145351004748216637048440319989000889524345065854122758866688116427171479924442928230863465674813919123162824586178664583591245665294765456828489128831426076900422421902267105562632111110937054421750694165896040807198403850962455444362981230987879927244284909188845801561660979191338754992005240636899125607176060588611646710940507754100225698315520005593572972571636269561882670428252483600823257530420752963450\"\"\""
   ]
  },
  {
   "cell_type": "code",
   "execution_count": 32,
   "id": "c5430893-bfcb-4659-b402-571e47a92159",
   "metadata": {},
   "outputs": [
    {
     "data": {
      "text/plain": [
       "['7', '3', '1', '6', '7', '1', '7', '6', '5', '3', '1', '3', '3']"
      ]
     },
     "execution_count": 32,
     "metadata": {},
     "output_type": "execute_result"
    }
   ],
   "source": [
    "list(S[:13])"
   ]
  },
  {
   "cell_type": "markdown",
   "id": "b291549c-4968-42d5-8980-f9f6acfc32d6",
   "metadata": {},
   "source": [
    "here is my first attempt. "
   ]
  },
  {
   "cell_type": "code",
   "execution_count": 126,
   "id": "08fad8a2-bcd2-448b-bfe4-065f66643627",
   "metadata": {},
   "outputs": [
    {
     "name": "stdout",
     "output_type": "stream",
     "text": [
      "23514624000\n",
      "Time taken 0.0019617080688476562\n"
     ]
    }
   ],
   "source": [
    "import time \n",
    "\n",
    "b = time.time()\n",
    "max_product = 0\n",
    "i = 0\n",
    "while i < 987:\n",
    "    s = list(S[i:i+13])\n",
    "    P = 1\n",
    "    for k in s:\n",
    "        k = int(k)\n",
    "        P *= k\n",
    "        if k == 0:\n",
    "            # we can skip 13 places\n",
    "            i = i + 12\n",
    "            break\n",
    "        # tried moving this outside the loop but performance decreases! \n",
    "        if P > max_product:\n",
    "            max_product = P\n",
    "    i = i + 1\n",
    "print(max_product)\n",
    "e = time.time()\n",
    "\n",
    "print(\"Time taken\", e - b)"
   ]
  },
  {
   "cell_type": "markdown",
   "id": "e65194b9-c0ef-412e-bf57-b1113a939d88",
   "metadata": {},
   "source": [
    "If there were no zeros in the input we could significantly improve the code. We could maintain a product of a 13-window and if we encounter a 0, skip 13 steps and reset the product of a 13-window. I have tried this and there was no real speed-up. Obviously we would see some speed-up if we increase the window length from 13 to, say, 100. But if we look at the data, we would always encounter a zero, so the max product would more-or-less always be zero!"
   ]
  },
  {
   "cell_type": "markdown",
   "id": "091020dd-68db-4d94-b66a-ac37cf395327",
   "metadata": {},
   "source": [
    "# Problem 9"
   ]
  },
  {
   "cell_type": "markdown",
   "id": "24874a1c-f670-4649-bc45-f00a294cae2c",
   "metadata": {},
   "source": [
    "We start with a little bit of algebra. Using the equations $a + b + c = 1000$ and $a^2 + b^2 = c^2$ we can obtain the equation:\n",
    "$$500,000 = 1000a + 1000b - ab.$$"
   ]
  },
  {
   "cell_type": "code",
   "execution_count": 64,
   "id": "5dc86738-a1c5-4d54-975c-eac6d97c12c3",
   "metadata": {},
   "outputs": [
    {
     "name": "stdout",
     "output_type": "stream",
     "text": [
      "200 375 425\n",
      "Time taken:  0.20915603637695312\n"
     ]
    }
   ],
   "source": [
    "import time\n",
    "s = 1000\n",
    "s_squared = 0.5 * s * s \n",
    "time_b = time.time()\n",
    "for a in range(1,s):\n",
    "    for b in range(a,s):\n",
    "        # 2 multiplications\n",
    "        if s*(a + b) - a*b == s_squared:\n",
    "            print(a, b, s - a - b)\n",
    "time_e = time.time()\n",
    "print(\"Time taken: \", time_e - time_b)"
   ]
  },
  {
   "cell_type": "code",
   "execution_count": 65,
   "id": "9a1f191d-a89f-4f8d-8abb-e50b3863492d",
   "metadata": {},
   "outputs": [
    {
     "data": {
      "text/plain": [
       "31875000"
      ]
     },
     "execution_count": 65,
     "metadata": {},
     "output_type": "execute_result"
    }
   ],
   "source": [
    "200 * 375 * 425 "
   ]
  },
  {
   "cell_type": "markdown",
   "id": "8b1eaeaa-ad43-4540-ab24-f4b8966f814e",
   "metadata": {},
   "source": [
    "Looking at the overview, I missed a few tricks. Let us look at them. First, the inner logic in my initial version is different to that in the overview. I thought that by doing a little bit of algebra we might get some optimisations. While that turns out to be the case, we have essentially swapped out an addition for a multiplication. So the code scales the same. The overview version is implemented below."
   ]
  },
  {
   "cell_type": "code",
   "execution_count": 66,
   "id": "73c01319-3d9e-4142-893a-04fd7ec54349",
   "metadata": {},
   "outputs": [
    {
     "name": "stdout",
     "output_type": "stream",
     "text": [
      "200 375 425\n",
      "Time taken:  0.2676563262939453\n"
     ]
    }
   ],
   "source": [
    "import time\n",
    "s = 1000\n",
    "s_squared = s * s \n",
    "time_b = time.time()\n",
    "for a in range(1,s):\n",
    "    for b in range(a,s):\n",
    "        c = s - a - b\n",
    "        # 3 multiplications\n",
    "        if a*a + b*b == c*c:\n",
    "            print(a, b, s - a - b)\n",
    "time_e = time.time()\n",
    "print(\"Time taken: \", time_e - time_b)"
   ]
  },
  {
   "cell_type": "markdown",
   "id": "e31b2ce6-d7e3-4c62-9b93-ab2feeb9b254",
   "metadata": {},
   "source": [
    "First note that the loops on a and b have upper limit $s$. This is because $$ a < b < c = s - a - b < s.$$ This is a very crude bound"
   ]
  },
  {
   "cell_type": "markdown",
   "id": "3d12a9b7-ca85-4edf-922e-0a642e0b70b8",
   "metadata": {},
   "source": [
    "Our first port-of-call is to improve on these bounds."
   ]
  },
  {
   "cell_type": "markdown",
   "id": "c516d08a-2ea1-4184-8d73-e676c129174e",
   "metadata": {},
   "source": [
    "Note\n",
    "$$a < s - a - b < s - 2a \\implies 3a < s \\implies a < \\frac{s}{3} \\implies a \\leq \\frac{s-3}{3}$$ \n",
    "and\n",
    "$$b < s - a - b \\implies 2b < s-a \\implies b < \\frac{s-a}{2}.$$"
   ]
  },
  {
   "cell_type": "code",
   "execution_count": 3,
   "id": "b1899812-a87e-44dd-a465-484fc89285ea",
   "metadata": {},
   "outputs": [
    {
     "name": "stdout",
     "output_type": "stream",
     "text": [
      "200 375 425\n",
      "Time taken:  0.03635239601135254\n"
     ]
    }
   ],
   "source": [
    "import time\n",
    "s = 1000\n",
    "s_squared = 0.5 * s * s \n",
    "time_b = time.time()\n",
    "for a in range(1,int((s-3)/3)):\n",
    "    for b in range(a,int((s-a)/2)):\n",
    "        # 1 multiplication!\n",
    "        if (a-s)*(b-s) == s_squared:\n",
    "            print(a, b, s - a - b)\n",
    "time_e = time.time()\n",
    "print(\"Time taken: \", time_e - time_b)"
   ]
  },
  {
   "cell_type": "markdown",
   "id": "ae4db07c-2290-4c39-b9f8-ce51f43cf00d",
   "metadata": {},
   "source": [
    "...about 5 times faster. Nice! But as noted in the overview, this doesnt deal with the scaling of the algorithm. It is currently quadratic in time. To beat this we need a whole new approach. I will come back to this when I have revised my number theory. "
   ]
  },
  {
   "cell_type": "markdown",
   "id": "7594029a-a88c-4ed1-b094-b1c9a05c860d",
   "metadata": {},
   "source": [
    "# Problem 10"
   ]
  },
  {
   "cell_type": "markdown",
   "id": "cdc9ccf7-0fa1-444d-bebc-c9c906c65620",
   "metadata": {},
   "source": [
    "Let's use the sieve and see how it performs..."
   ]
  },
  {
   "cell_type": "code",
   "execution_count": 7,
   "id": "85703b53-e66c-4622-9300-cc4f37dd6397",
   "metadata": {},
   "outputs": [
    {
     "name": "stdout",
     "output_type": "stream",
     "text": [
      "142913828922\n",
      "Time taken:  3.2221221923828125\n"
     ]
    }
   ],
   "source": [
    "import time\n",
    "\n",
    "b = time.time()\n",
    "I = list(range(2000000))\n",
    "for k in I:\n",
    "    if k < 2:\n",
    "        continue\n",
    "    l = 2\n",
    "    while l*k < len(I):\n",
    "        I[l*k] = 0\n",
    "        l = l + 1\n",
    "S = 0\n",
    "for i in I:\n",
    "    if i > 1:\n",
    "        S += i\n",
    "e = time.time()\n",
    "print(S)\n",
    "print(\"Time taken: \", e-b)"
   ]
  },
  {
   "cell_type": "code",
   "execution_count": 4,
   "id": "54acd7fc-5da0-4b33-9d27-9c8e395673e2",
   "metadata": {},
   "outputs": [
    {
     "name": "stdout",
     "output_type": "stream",
     "text": [
      "142913828922\n",
      "Time taken:  4.832822561264038\n"
     ]
    }
   ],
   "source": [
    "b = time.time()\n",
    "limit = 2000000\n",
    "psum = 5\n",
    "n = 5\n",
    "while n <= limit:\n",
    "    if is_prime(n):\n",
    "        psum += n\n",
    "    n = n + 2\n",
    "e = time.time()\n",
    "print(psum)\n",
    "print(\"Time taken: \", e-b)"
   ]
  },
  {
   "cell_type": "markdown",
   "id": "6a965254-af98-4cc7-b031-51bd580b8610",
   "metadata": {},
   "source": [
    "As i expected, the sieve performs better :)"
   ]
  },
  {
   "cell_type": "code",
   "execution_count": null,
   "id": "7b2b0a62-d18a-4a68-a2d1-23f601b3a21a",
   "metadata": {},
   "outputs": [],
   "source": []
  }
 ],
 "metadata": {
  "kernelspec": {
   "display_name": "Python 3 (ipykernel)",
   "language": "python",
   "name": "python3"
  },
  "language_info": {
   "codemirror_mode": {
    "name": "ipython",
    "version": 3
   },
   "file_extension": ".py",
   "mimetype": "text/x-python",
   "name": "python",
   "nbconvert_exporter": "python",
   "pygments_lexer": "ipython3",
   "version": "3.11.2"
  }
 },
 "nbformat": 4,
 "nbformat_minor": 5
}
