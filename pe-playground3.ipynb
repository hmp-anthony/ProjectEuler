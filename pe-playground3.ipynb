{
 "cells": [
  {
   "cell_type": "markdown",
   "id": "af6436b6-8ebe-4eb5-8985-3b6e2487b211",
   "metadata": {},
   "source": [
    "# Problem 21"
   ]
  },
  {
   "cell_type": "code",
   "execution_count": 2,
   "id": "bf23cd2e-d6a1-4f37-be2e-fcdc7b7c7df5",
   "metadata": {
    "scrolled": true
   },
   "outputs": [
    {
     "name": "stdout",
     "output_type": "stream",
     "text": [
      "[220, 284, 1184, 1210, 2620, 2924, 5020, 5564, 6232, 6368]\n",
      "31626\n",
      "Time taken:  1.4707088470458984\n"
     ]
    }
   ],
   "source": [
    "import math, time\n",
    "\n",
    "# Let's use a sieve to get the primes. ----------------------\n",
    "limit = 10000\n",
    "sievebound = int((limit - 1)/2)\n",
    "sieve = [False] * sievebound\n",
    "crosslimit = int((int(math.sqrt(limit)) - 1)/2)\n",
    "\n",
    "for i in range(1, crosslimit):\n",
    "    if not sieve[i]:\n",
    "        # remember i is the index of p = 2*i + 1\n",
    "        for j in range(2*i*(i+1), sievebound, 2*i + 1):\n",
    "            sieve[j] = True\n",
    "\n",
    "primes = [2] \n",
    "for i in range(1,sievebound):\n",
    "    if not sieve[i]:\n",
    "        primes.append(2*i + 1)\n",
    "# -----------------------------------------------------------\n",
    "\n",
    "def get_prime_factorisation(n, primes):\n",
    "    F = {}\n",
    "    for i in range(len(primes)):\n",
    "        p = primes[i]\n",
    "        power = 0\n",
    "        if p > n:\n",
    "            break\n",
    "        m = n\n",
    "        while m % p == 0:\n",
    "            power += 1\n",
    "            m = m // p\n",
    "        if power > 0:\n",
    "            F[p] = power\n",
    "    return F\n",
    "\n",
    "def obtain_sum_of_factors(j, primes):\n",
    "    F = get_prime_factorisation(j, primes)\n",
    "    s = 1\n",
    "    for p in F:\n",
    "        s *= (p ** (F[p] + 1) - 1)/(p - 1)\n",
    "    s -= j\n",
    "    s = int(s)\n",
    "    return s\n",
    "\n",
    "\n",
    "R = 10000\n",
    "A = []\n",
    "b = time.time()\n",
    "j = 2\n",
    "for j in range(2,R):\n",
    "    s = obtain_sum_of_factors(j, primes)\n",
    "    if j == s: \n",
    "        continue \n",
    "    q = obtain_sum_of_factors(s, primes)\n",
    "    if j == q:\n",
    "        A.append(q)\n",
    "\n",
    "print(A)\n",
    "print(sum(A))\n",
    "e = time.time()\n",
    "print(\"Time taken: \", e - b)"
   ]
  },
  {
   "cell_type": "markdown",
   "id": "9f3af0db-3a93-4f63-b0bf-7bd37abf94d5",
   "metadata": {},
   "source": [
    "We have done pretty well here. Let us look at the overview to see if we can make further improvements."
   ]
  },
  {
   "cell_type": "code",
   "execution_count": 1,
   "id": "8bf850de-3018-4a95-83fb-4b884022e926",
   "metadata": {},
   "outputs": [
    {
     "name": "stdout",
     "output_type": "stream",
     "text": [
      "0\n"
     ]
    }
   ],
   "source": [
    "def sum_of_proper_divisors(n):\n",
    "    ss = 1\n",
    "    p = 2\n",
    "    while p*p < n and n > 1:\n",
    "        if n % p == 0:\n",
    "            j = p*p\n",
    "            n = n // p\n",
    "            while n % p == 0:\n",
    "                j = j*p\n",
    "                n = n // p\n",
    "                ss = ss * (j-1)\n",
    "                ss = ss / (p-1)\n",
    "        if p == 2:\n",
    "            p = 3\n",
    "        else:\n",
    "            p = p + 2\n",
    "    if n > 1:\n",
    "        ss = ss * (n-1)\n",
    "    return ss\n",
    "    \n",
    "import math, time\n",
    "R = 10000\n",
    "s = 0\n",
    "for a in range(2, R):\n",
    "    b = sum_of_proper_divisors(a)\n",
    "    if b > a:\n",
    "        continue\n",
    "    if sum_of_proper_divisors(b) == a:\n",
    "            s += a + b\n",
    "\n",
    "print(s)"
   ]
  },
  {
   "cell_type": "markdown",
   "id": "083e5f87-ffab-4149-8746-5115eba7169d",
   "metadata": {},
   "source": [
    "... the code does not work."
   ]
  },
  {
   "cell_type": "markdown",
   "id": "8dc65db3-79d3-4cb5-9b22-da49d08f8f60",
   "metadata": {},
   "source": [
    "# Problem 22"
   ]
  },
  {
   "cell_type": "code",
   "execution_count": 28,
   "id": "88f010b0-5366-4b20-85ba-3ff4c51c42fb",
   "metadata": {},
   "outputs": [
    {
     "name": "stdout",
     "output_type": "stream",
     "text": [
      "\"COLIN\"\n",
      "ALEXA\n",
      "1\n"
     ]
    }
   ],
   "source": [
    "f = open(\"names.txt\")\n",
    "s = f.read()\n",
    "N = s.split(',')\n",
    "N.sort()\n",
    "print(N[937])\n",
    "n = N[100]\n",
    "print(n[1:-1])\n",
    "# we can use ord to map chars to ints.\n",
    "print(ord('A') - 64)"
   ]
  },
  {
   "cell_type": "code",
   "execution_count": 30,
   "id": "c0f64e26-15eb-4920-87f2-c41b5193228d",
   "metadata": {},
   "outputs": [
    {
     "name": "stdout",
     "output_type": "stream",
     "text": [
      "871198282\n"
     ]
    }
   ],
   "source": [
    "S = 0\n",
    "for i in range(len(N)):\n",
    "    name = N[i]\n",
    "    s = name[1:-1]\n",
    "    n = 0\n",
    "    for c in s:\n",
    "        n += ord(c) - 64\n",
    "    S += (i+1) * n\n",
    "print(S)"
   ]
  },
  {
   "cell_type": "markdown",
   "id": "4308a499-11fd-4a6c-9b7d-d12cd1f7201b",
   "metadata": {},
   "source": [
    "# Problem 23"
   ]
  },
  {
   "cell_type": "code",
   "execution_count": null,
   "id": "c6d107d4-5bfe-4b7f-8960-f6c206bdccbe",
   "metadata": {},
   "outputs": [],
   "source": []
  }
 ],
 "metadata": {
  "kernelspec": {
   "display_name": "Python 3 (ipykernel)",
   "language": "python",
   "name": "python3"
  },
  "language_info": {
   "codemirror_mode": {
    "name": "ipython",
    "version": 3
   },
   "file_extension": ".py",
   "mimetype": "text/x-python",
   "name": "python",
   "nbconvert_exporter": "python",
   "pygments_lexer": "ipython3",
   "version": "3.11.2"
  }
 },
 "nbformat": 4,
 "nbformat_minor": 5
}
