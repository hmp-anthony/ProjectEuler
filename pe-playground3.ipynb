{
 "cells": [
  {
   "cell_type": "markdown",
   "id": "af6436b6-8ebe-4eb5-8985-3b6e2487b211",
   "metadata": {},
   "source": [
    "# Problem 21"
   ]
  },
  {
   "cell_type": "code",
   "execution_count": 18,
   "id": "bf23cd2e-d6a1-4f37-be2e-fcdc7b7c7df5",
   "metadata": {
    "scrolled": true
   },
   "outputs": [
    {
     "name": "stdout",
     "output_type": "stream",
     "text": [
      "1 {} 1\n",
      "2 {2: 1} 4.0\n",
      "3 {3: 1} 4.5\n",
      "4 {2: 2} 8.0\n",
      "5 {5: 1} 6.25\n",
      "6 {2: 1, 3: 1} 18.0\n",
      "7 {7: 1} 8.166666666666666\n",
      "8 {2: 3} 16.0\n",
      "9 {3: 2} 13.5\n",
      "Time taken:  0.0007710456848144531\n"
     ]
    }
   ],
   "source": [
    "import math, time\n",
    "\n",
    "# Let's use a sieve to get the primes. ----------------------\n",
    "limit = 10000\n",
    "sievebound = int((limit - 1)/2)\n",
    "sieve = [False] * sievebound\n",
    "crosslimit = int((int(math.sqrt(limit)) - 1)/2)\n",
    "\n",
    "for i in range(1, crosslimit):\n",
    "    if not sieve[i]:\n",
    "        # remember i is the index of p = 2*i + 1\n",
    "        for j in range(2*i*(i+1), sievebound, 2*i + 1):\n",
    "            sieve[j] = True\n",
    "\n",
    "primes = [2] \n",
    "for i in range(1,sievebound):\n",
    "    if not sieve[i]:\n",
    "        primes.append(2*i + 1)\n",
    "# -----------------------------------------------------------\n",
    "\n",
    "def get_prime_factorisation(n, primes):\n",
    "    F = {}\n",
    "    for i in range(len(primes)):\n",
    "        p = primes[i]\n",
    "        power = 0\n",
    "        if p > n:\n",
    "            break\n",
    "        m = n\n",
    "        while m % p == 0:\n",
    "            power += 1\n",
    "            m = m // p\n",
    "        if power > 0:\n",
    "            F[p] = power\n",
    "    return F\n",
    "    \n",
    "\n",
    "R = 10\n",
    "b = time.time()\n",
    "for j in range(1, R):\n",
    "    F = get_prime_factorisation(j, primes)\n",
    "    s = 1\n",
    "    for p in F:\n",
    "        s *= (p ** (F[p] + 1))/(p - 1)\n",
    "    print(j, F,  s)\n",
    "        \n",
    "e = time.time()\n",
    "print(\"Time taken: \", e - b)"
   ]
  },
  {
   "cell_type": "code",
   "execution_count": null,
   "id": "8bf850de-3018-4a95-83fb-4b884022e926",
   "metadata": {},
   "outputs": [],
   "source": []
  },
  {
   "cell_type": "code",
   "execution_count": null,
   "id": "7a938798-1097-4b12-aff5-5e35322cec51",
   "metadata": {},
   "outputs": [],
   "source": []
  }
 ],
 "metadata": {
  "kernelspec": {
   "display_name": "Python 3 (ipykernel)",
   "language": "python",
   "name": "python3"
  },
  "language_info": {
   "codemirror_mode": {
    "name": "ipython",
    "version": 3
   },
   "file_extension": ".py",
   "mimetype": "text/x-python",
   "name": "python",
   "nbconvert_exporter": "python",
   "pygments_lexer": "ipython3",
   "version": "3.11.2"
  }
 },
 "nbformat": 4,
 "nbformat_minor": 5
}
